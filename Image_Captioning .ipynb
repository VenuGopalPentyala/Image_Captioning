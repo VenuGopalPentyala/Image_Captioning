{
 "cells": [
  {
   "cell_type": "code",
   "execution_count": 1,
   "metadata": {
    "ExecuteTime": {
     "end_time": "2020-11-24T14:11:47.136669Z",
     "start_time": "2020-11-24T14:11:36.914114Z"
    },
    "executionInfo": {
     "elapsed": 1877,
     "status": "ok",
     "timestamp": 1606225402344,
     "user": {
      "displayName": "Venu Gopal",
      "photoUrl": "https://lh3.googleusercontent.com/a-/AOh14GjlNMXLpvUhxu7s1cOc22aPqRTCt4eWQLV5ScRO=s64",
      "userId": "03033306627303867925"
     },
     "user_tz": -330
    },
    "id": "LLKp6jjaRY71"
   },
   "outputs": [
    {
     "name": "stderr",
     "output_type": "stream",
     "text": [
      "Using TensorFlow backend.\n",
      "c:\\python\\python37\\lib\\site-packages\\tensorflow\\python\\framework\\dtypes.py:516: FutureWarning: Passing (type, 1) or '1type' as a synonym of type is deprecated; in a future version of numpy, it will be understood as (type, (1,)) / '(1,)type'.\n",
      "  _np_qint8 = np.dtype([(\"qint8\", np.int8, 1)])\n",
      "c:\\python\\python37\\lib\\site-packages\\tensorflow\\python\\framework\\dtypes.py:517: FutureWarning: Passing (type, 1) or '1type' as a synonym of type is deprecated; in a future version of numpy, it will be understood as (type, (1,)) / '(1,)type'.\n",
      "  _np_quint8 = np.dtype([(\"quint8\", np.uint8, 1)])\n",
      "c:\\python\\python37\\lib\\site-packages\\tensorflow\\python\\framework\\dtypes.py:518: FutureWarning: Passing (type, 1) or '1type' as a synonym of type is deprecated; in a future version of numpy, it will be understood as (type, (1,)) / '(1,)type'.\n",
      "  _np_qint16 = np.dtype([(\"qint16\", np.int16, 1)])\n",
      "c:\\python\\python37\\lib\\site-packages\\tensorflow\\python\\framework\\dtypes.py:519: FutureWarning: Passing (type, 1) or '1type' as a synonym of type is deprecated; in a future version of numpy, it will be understood as (type, (1,)) / '(1,)type'.\n",
      "  _np_quint16 = np.dtype([(\"quint16\", np.uint16, 1)])\n",
      "c:\\python\\python37\\lib\\site-packages\\tensorflow\\python\\framework\\dtypes.py:520: FutureWarning: Passing (type, 1) or '1type' as a synonym of type is deprecated; in a future version of numpy, it will be understood as (type, (1,)) / '(1,)type'.\n",
      "  _np_qint32 = np.dtype([(\"qint32\", np.int32, 1)])\n",
      "c:\\python\\python37\\lib\\site-packages\\tensorflow\\python\\framework\\dtypes.py:525: FutureWarning: Passing (type, 1) or '1type' as a synonym of type is deprecated; in a future version of numpy, it will be understood as (type, (1,)) / '(1,)type'.\n",
      "  np_resource = np.dtype([(\"resource\", np.ubyte, 1)])\n",
      "c:\\python\\python37\\lib\\site-packages\\tensorboard\\compat\\tensorflow_stub\\dtypes.py:541: FutureWarning: Passing (type, 1) or '1type' as a synonym of type is deprecated; in a future version of numpy, it will be understood as (type, (1,)) / '(1,)type'.\n",
      "  _np_qint8 = np.dtype([(\"qint8\", np.int8, 1)])\n",
      "c:\\python\\python37\\lib\\site-packages\\tensorboard\\compat\\tensorflow_stub\\dtypes.py:542: FutureWarning: Passing (type, 1) or '1type' as a synonym of type is deprecated; in a future version of numpy, it will be understood as (type, (1,)) / '(1,)type'.\n",
      "  _np_quint8 = np.dtype([(\"quint8\", np.uint8, 1)])\n",
      "c:\\python\\python37\\lib\\site-packages\\tensorboard\\compat\\tensorflow_stub\\dtypes.py:543: FutureWarning: Passing (type, 1) or '1type' as a synonym of type is deprecated; in a future version of numpy, it will be understood as (type, (1,)) / '(1,)type'.\n",
      "  _np_qint16 = np.dtype([(\"qint16\", np.int16, 1)])\n",
      "c:\\python\\python37\\lib\\site-packages\\tensorboard\\compat\\tensorflow_stub\\dtypes.py:544: FutureWarning: Passing (type, 1) or '1type' as a synonym of type is deprecated; in a future version of numpy, it will be understood as (type, (1,)) / '(1,)type'.\n",
      "  _np_quint16 = np.dtype([(\"quint16\", np.uint16, 1)])\n",
      "c:\\python\\python37\\lib\\site-packages\\tensorboard\\compat\\tensorflow_stub\\dtypes.py:545: FutureWarning: Passing (type, 1) or '1type' as a synonym of type is deprecated; in a future version of numpy, it will be understood as (type, (1,)) / '(1,)type'.\n",
      "  _np_qint32 = np.dtype([(\"qint32\", np.int32, 1)])\n",
      "c:\\python\\python37\\lib\\site-packages\\tensorboard\\compat\\tensorflow_stub\\dtypes.py:550: FutureWarning: Passing (type, 1) or '1type' as a synonym of type is deprecated; in a future version of numpy, it will be understood as (type, (1,)) / '(1,)type'.\n",
      "  np_resource = np.dtype([(\"resource\", np.ubyte, 1)])\n"
     ]
    }
   ],
   "source": [
    "import numpy as np\n",
    "from numpy import array\n",
    "import pandas as pd\n",
    "import matplotlib.pyplot as plt\n",
    "%matplotlib inline\n",
    "import string\n",
    "import os\n",
    "from PIL import Image\n",
    "import glob\n",
    "from pickle import dump, load\n",
    "from time import time\n",
    "from keras.preprocessing import sequence\n",
    "from keras.models import Sequential\n",
    "from keras.layers import LSTM, Embedding, TimeDistributed, Dense, RepeatVector,\\\n",
    "                         Activation, Flatten, Reshape, concatenate, Dropout, BatchNormalization\n",
    "from keras.optimizers import Adam, RMSprop\n",
    "from keras.layers.wrappers import Bidirectional\n",
    "from keras.layers.merge import add\n",
    "from keras.applications.inception_v3 import InceptionV3\n",
    "from keras.preprocessing import image\n",
    "from keras.models import Model\n",
    "from keras import Input, layers\n",
    "from keras import optimizers\n",
    "from keras.applications.inception_v3 import preprocess_input\n",
    "from keras.preprocessing.text import Tokenizer\n",
    "from keras.preprocessing.sequence import pad_sequences\n",
    "from keras.utils import to_categorical"
   ]
  },
  {
   "cell_type": "code",
   "execution_count": 2,
   "metadata": {
    "ExecuteTime": {
     "end_time": "2020-11-24T14:12:04.510313Z",
     "start_time": "2020-11-24T14:12:04.461328Z"
    },
    "colab": {
     "base_uri": "https://localhost:8080/"
    },
    "executionInfo": {
     "elapsed": 1975,
     "status": "ok",
     "timestamp": 1606225407054,
     "user": {
      "displayName": "Venu Gopal",
      "photoUrl": "https://lh3.googleusercontent.com/a-/AOh14GjlNMXLpvUhxu7s1cOc22aPqRTCt4eWQLV5ScRO=s64",
      "userId": "03033306627303867925"
     },
     "user_tz": -330
    },
    "id": "u3MP1L0CRvz0",
    "outputId": "1e3f2ad5-c4ec-43a9-e94b-ce025ffb6eb9"
   },
   "outputs": [
    {
     "name": "stdout",
     "output_type": "stream",
     "text": [
      "1000268201_693b08cb0e.jpg#0\tA child in a pink dress is climbing up a set of stairs in an entry way .\n",
      "1000268201_693b08cb0e.jpg#1\tA girl going into a wooden building .\n",
      "1000268201_693b08cb0e.jpg#2\tA little girl climbing into a wooden playhouse .\n",
      "1000268201_693b08cb0e.jpg#3\tA little girl climbing the s\n"
     ]
    }
   ],
   "source": [
    "# load doc into memory\n",
    "def load_doc(filename):\n",
    "    # open the file as read only\n",
    "    file = open(filename, 'r')\n",
    "    # read all text\n",
    "    text = file.read()\n",
    "    # close the file\n",
    "    file.close()\n",
    "    return text\n",
    "\n",
    "filename = \"/Data/Flickr8k_text/Flickr8k.token.txt\"\n",
    "# load descriptions\n",
    "doc = load_doc(filename)\n",
    "print(doc[:300])"
   ]
  },
  {
   "cell_type": "code",
   "execution_count": 75,
   "metadata": {
    "ExecuteTime": {
     "end_time": "2020-11-24T19:06:47.714880Z",
     "start_time": "2020-11-24T19:06:47.511946Z"
    },
    "colab": {
     "base_uri": "https://localhost:8080/"
    },
    "executionInfo": {
     "elapsed": 2176,
     "status": "ok",
     "timestamp": 1606225409982,
     "user": {
      "displayName": "Venu Gopal",
      "photoUrl": "https://lh3.googleusercontent.com/a-/AOh14GjlNMXLpvUhxu7s1cOc22aPqRTCt4eWQLV5ScRO=s64",
      "userId": "03033306627303867925"
     },
     "user_tz": -330
    },
    "id": "SM5qxJVzR1vq",
    "outputId": "518077ce-b924-46cf-9229-714a9df92c3c"
   },
   "outputs": [
    {
     "name": "stdout",
     "output_type": "stream",
     "text": [
      "Loaded: 8092 \n"
     ]
    }
   ],
   "source": [
    "def load_descriptions(doc):\n",
    "    mapping = dict()\n",
    "    # process lines\n",
    "    for line in doc.split('\\n'):\n",
    "        # split line by white space\n",
    "        tokens = line.split()\n",
    "        if len(line) < 2:\n",
    "            continue\n",
    "        # take the first token as the image id, the rest as the description\n",
    "        image_id, image_desc = tokens[0], tokens[1:]\n",
    "        # extract filename from image id\n",
    "        image_id = image_id.split('.')[0]\n",
    "        # convert description tokens back to string\n",
    "        image_desc = ' '.join(image_desc)\n",
    "        # create the list if needed\n",
    "        if image_id not in mapping:\n",
    "            mapping[image_id] = list()\n",
    "        # store description\n",
    "        mapping[image_id].append(image_desc)\n",
    "    return mapping\n",
    "\n",
    "# parse descriptions\n",
    "descriptions = load_descriptions(doc)\n",
    "print('Loaded: %d ' % len(descriptions))"
   ]
  },
  {
   "cell_type": "code",
   "execution_count": 4,
   "metadata": {
    "ExecuteTime": {
     "end_time": "2020-11-24T14:12:11.464653Z",
     "start_time": "2020-11-24T14:12:11.448657Z"
    },
    "colab": {
     "base_uri": "https://localhost:8080/"
    },
    "executionInfo": {
     "elapsed": 1239,
     "status": "ok",
     "timestamp": 1606225413383,
     "user": {
      "displayName": "Venu Gopal",
      "photoUrl": "https://lh3.googleusercontent.com/a-/AOh14GjlNMXLpvUhxu7s1cOc22aPqRTCt4eWQLV5ScRO=s64",
      "userId": "03033306627303867925"
     },
     "user_tz": -330
    },
    "id": "xOq7kTmDR5XI",
    "outputId": "a6f8741a-5791-45b2-a93c-12fdbe7ba044"
   },
   "outputs": [
    {
     "data": {
      "text/plain": [
       "['1000268201_693b08cb0e',\n",
       " '1001773457_577c3a7d70',\n",
       " '1002674143_1b742ab4b8',\n",
       " '1003163366_44323f5815',\n",
       " '1007129816_e794419615']"
      ]
     },
     "execution_count": 4,
     "metadata": {},
     "output_type": "execute_result"
    }
   ],
   "source": [
    "list(descriptions.keys())[:5]"
   ]
  },
  {
   "cell_type": "code",
   "execution_count": 5,
   "metadata": {
    "ExecuteTime": {
     "end_time": "2020-11-24T14:12:12.201219Z",
     "start_time": "2020-11-24T14:12:12.189225Z"
    },
    "colab": {
     "base_uri": "https://localhost:8080/"
    },
    "executionInfo": {
     "elapsed": 678,
     "status": "ok",
     "timestamp": 1606225413383,
     "user": {
      "displayName": "Venu Gopal",
      "photoUrl": "https://lh3.googleusercontent.com/a-/AOh14GjlNMXLpvUhxu7s1cOc22aPqRTCt4eWQLV5ScRO=s64",
      "userId": "03033306627303867925"
     },
     "user_tz": -330
    },
    "id": "jogwJec-R7Wl",
    "outputId": "54f114dd-ec97-4736-8fcf-091f08b75be8"
   },
   "outputs": [
    {
     "data": {
      "text/plain": [
       "['A child in a pink dress is climbing up a set of stairs in an entry way .',\n",
       " 'A girl going into a wooden building .',\n",
       " 'A little girl climbing into a wooden playhouse .',\n",
       " 'A little girl climbing the stairs to her playhouse .',\n",
       " 'A little girl in a pink dress going into a wooden cabin .']"
      ]
     },
     "execution_count": 5,
     "metadata": {},
     "output_type": "execute_result"
    }
   ],
   "source": [
    "descriptions['1000268201_693b08cb0e']"
   ]
  },
  {
   "cell_type": "code",
   "execution_count": 6,
   "metadata": {
    "ExecuteTime": {
     "end_time": "2020-11-24T14:12:12.892815Z",
     "start_time": "2020-11-24T14:12:12.869804Z"
    },
    "colab": {
     "base_uri": "https://localhost:8080/"
    },
    "executionInfo": {
     "elapsed": 626,
     "status": "ok",
     "timestamp": 1606225413964,
     "user": {
      "displayName": "Venu Gopal",
      "photoUrl": "https://lh3.googleusercontent.com/a-/AOh14GjlNMXLpvUhxu7s1cOc22aPqRTCt4eWQLV5ScRO=s64",
      "userId": "03033306627303867925"
     },
     "user_tz": -330
    },
    "id": "57m2JbOOR9NF",
    "outputId": "4935a2ae-a55f-42b8-e099-003c419191a6"
   },
   "outputs": [
    {
     "data": {
      "text/plain": [
       "['A black dog and a spotted dog are fighting',\n",
       " 'A black dog and a tri-colored dog playing with each other on the road .',\n",
       " 'A black dog and a white dog with brown spots are staring at each other in the street .',\n",
       " 'Two dogs of different breeds looking at each other on the road .',\n",
       " 'Two dogs on pavement moving toward each other .']"
      ]
     },
     "execution_count": 6,
     "metadata": {},
     "output_type": "execute_result"
    }
   ],
   "source": [
    "descriptions['1001773457_577c3a7d70']"
   ]
  },
  {
   "cell_type": "code",
   "execution_count": 76,
   "metadata": {
    "ExecuteTime": {
     "end_time": "2020-11-24T19:07:58.518275Z",
     "start_time": "2020-11-24T19:07:57.737332Z"
    },
    "executionInfo": {
     "elapsed": 1386,
     "status": "ok",
     "timestamp": 1606225421143,
     "user": {
      "displayName": "Venu Gopal",
      "photoUrl": "https://lh3.googleusercontent.com/a-/AOh14GjlNMXLpvUhxu7s1cOc22aPqRTCt4eWQLV5ScRO=s64",
      "userId": "03033306627303867925"
     },
     "user_tz": -330
    },
    "id": "j3DP8ZAYR_uy"
   },
   "outputs": [],
   "source": [
    "def clean_descriptions(descriptions):\n",
    "    # prepare translation table for removing punctuation\n",
    "    table = str.maketrans('', '', string.punctuation)\n",
    "    for key, desc_list in descriptions.items():\n",
    "        for i in range(len(desc_list)):\n",
    "            desc = desc_list[i]\n",
    "            # tokenize\n",
    "            desc = desc.split()\n",
    "            # convert to lower case\n",
    "            desc = [word.lower() for word in desc]\n",
    "            # remove punctuation from each token\n",
    "            desc = [w.translate(table) for w in desc]\n",
    "            # remove hanging 's' and 'a'\n",
    "            desc = [word for word in desc if len(word)>1]\n",
    "            # remove tokens with numbers in them\n",
    "            desc = [word for word in desc if word.isalpha()]\n",
    "            # store as string\n",
    "            desc_list[i] =  ' '.join(desc)\n",
    "\n",
    "# clean descriptions\n",
    "clean_descriptions(descriptions)"
   ]
  },
  {
   "cell_type": "code",
   "execution_count": 77,
   "metadata": {
    "ExecuteTime": {
     "end_time": "2020-11-24T19:07:59.101755Z",
     "start_time": "2020-11-24T19:07:59.080758Z"
    },
    "colab": {
     "base_uri": "https://localhost:8080/"
    },
    "executionInfo": {
     "elapsed": 1290,
     "status": "ok",
     "timestamp": 1606225422601,
     "user": {
      "displayName": "Venu Gopal",
      "photoUrl": "https://lh3.googleusercontent.com/a-/AOh14GjlNMXLpvUhxu7s1cOc22aPqRTCt4eWQLV5ScRO=s64",
      "userId": "03033306627303867925"
     },
     "user_tz": -330
    },
    "id": "S3-YNUMsSBuC",
    "outputId": "40cd2fd3-17d9-4db5-e7c5-06d36fbdb63a"
   },
   "outputs": [
    {
     "data": {
      "text/plain": [
       "['child in pink dress is climbing up set of stairs in an entry way',\n",
       " 'girl going into wooden building',\n",
       " 'little girl climbing into wooden playhouse',\n",
       " 'little girl climbing the stairs to her playhouse',\n",
       " 'little girl in pink dress going into wooden cabin']"
      ]
     },
     "execution_count": 77,
     "metadata": {},
     "output_type": "execute_result"
    }
   ],
   "source": [
    "descriptions['1000268201_693b08cb0e']"
   ]
  },
  {
   "cell_type": "code",
   "execution_count": 9,
   "metadata": {
    "ExecuteTime": {
     "end_time": "2020-11-24T14:12:16.669090Z",
     "start_time": "2020-11-24T14:12:16.483149Z"
    },
    "colab": {
     "base_uri": "https://localhost:8080/"
    },
    "executionInfo": {
     "elapsed": 1048,
     "status": "ok",
     "timestamp": 1606225434354,
     "user": {
      "displayName": "Venu Gopal",
      "photoUrl": "https://lh3.googleusercontent.com/a-/AOh14GjlNMXLpvUhxu7s1cOc22aPqRTCt4eWQLV5ScRO=s64",
      "userId": "03033306627303867925"
     },
     "user_tz": -330
    },
    "id": "i0B_7v2cSJ5r",
    "outputId": "93fd9f0e-5667-4dca-eda2-412d5bf68e73"
   },
   "outputs": [
    {
     "name": "stdout",
     "output_type": "stream",
     "text": [
      "Original Vocabulary Size: 8763\n"
     ]
    }
   ],
   "source": [
    "# convert the loaded descriptions into a vocabulary of words\n",
    "def to_vocabulary(descriptions):\n",
    "    # build a list of all description strings\n",
    "    all_desc = set()\n",
    "    for key in descriptions.keys():\n",
    "        [all_desc.update(d.split()) for d in descriptions[key]]\n",
    "    return all_desc\n",
    "\n",
    "# summarize vocabulary\n",
    "vocabulary = to_vocabulary(descriptions)\n",
    "print('Original Vocabulary Size: %d' % len(vocabulary))"
   ]
  },
  {
   "cell_type": "code",
   "execution_count": 10,
   "metadata": {
    "ExecuteTime": {
     "end_time": "2020-11-24T14:12:18.256183Z",
     "start_time": "2020-11-24T14:12:18.122226Z"
    },
    "executionInfo": {
     "elapsed": 1023,
     "status": "ok",
     "timestamp": 1606225436013,
     "user": {
      "displayName": "Venu Gopal",
      "photoUrl": "https://lh3.googleusercontent.com/a-/AOh14GjlNMXLpvUhxu7s1cOc22aPqRTCt4eWQLV5ScRO=s64",
      "userId": "03033306627303867925"
     },
     "user_tz": -330
    },
    "id": "Ksrd5g2iSNUX"
   },
   "outputs": [],
   "source": [
    "# save descriptions to file, one per line\n",
    "def save_descriptions(descriptions, filename):\n",
    "    lines = list()\n",
    "    for key, desc_list in descriptions.items():\n",
    "    for desc in desc_list:\n",
    "            lines.append(key + ' ' + desc)\n",
    "    data = '\\n'.join(lines)\n",
    "    file = open(filename, 'w')\n",
    "    file.write(data)\n",
    "    file.close()\n",
    "\n",
    "save_descriptions(descriptions, 'descriptions.txt')"
   ]
  },
  {
   "cell_type": "code",
   "execution_count": 12,
   "metadata": {
    "ExecuteTime": {
     "end_time": "2020-11-24T14:13:35.321914Z",
     "start_time": "2020-11-24T14:13:35.286927Z"
    },
    "colab": {
     "base_uri": "https://localhost:8080/"
    },
    "executionInfo": {
     "elapsed": 1198,
     "status": "ok",
     "timestamp": 1606225452299,
     "user": {
      "displayName": "Venu Gopal",
      "photoUrl": "https://lh3.googleusercontent.com/a-/AOh14GjlNMXLpvUhxu7s1cOc22aPqRTCt4eWQLV5ScRO=s64",
      "userId": "03033306627303867925"
     },
     "user_tz": -330
    },
    "id": "fUmqgQeFSNRj",
    "outputId": "7a9976ef-4aba-4de4-a4f3-4fb8775483d1"
   },
   "outputs": [
    {
     "name": "stdout",
     "output_type": "stream",
     "text": [
      "Dataset: 6000\n"
     ]
    }
   ],
   "source": [
    "# load a pre-defined list of photo identifiers\n",
    "def load_set(filename):\n",
    "    doc = load_doc(filename)\n",
    "    dataset = list()\n",
    "    # process line by line\n",
    "    for line in doc.split('\\n'):\n",
    "        # skip empty lines\n",
    "        if len(line) < 1:\n",
    "            continue\n",
    "    # get the image identifier\n",
    "        identifier = line.split('.')[0]\n",
    "        dataset.append(identifier)\n",
    "    return set(dataset)\n",
    "\n",
    "# load training dataset (6K)\n",
    "filename = '/Data/Flickr8k_text/Flickr_8k.trainImages.txt'\n",
    "train = load_set(filename)\n",
    "print('Dataset: %d' % len(train))"
   ]
  },
  {
   "cell_type": "code",
   "execution_count": 13,
   "metadata": {
    "ExecuteTime": {
     "end_time": "2020-11-24T14:13:39.526948Z",
     "start_time": "2020-11-24T14:13:39.410673Z"
    },
    "executionInfo": {
     "elapsed": 1368,
     "status": "ok",
     "timestamp": 1606225455414,
     "user": {
      "displayName": "Venu Gopal",
      "photoUrl": "https://lh3.googleusercontent.com/a-/AOh14GjlNMXLpvUhxu7s1cOc22aPqRTCt4eWQLV5ScRO=s64",
      "userId": "03033306627303867925"
     },
     "user_tz": -330
    },
    "id": "zopZzQpHSNO8"
   },
   "outputs": [],
   "source": [
    "# Below path contains all the images\n",
    "images = '/Data/Flicker8k_Dataset/'\n",
    "# Create a list of all image names in the directory\n",
    "img = glob.glob(images + '*.jpg')"
   ]
  },
  {
   "cell_type": "code",
   "execution_count": 14,
   "metadata": {
    "ExecuteTime": {
     "end_time": "2020-11-24T14:13:51.725908Z",
     "start_time": "2020-11-24T14:13:51.700918Z"
    },
    "executionInfo": {
     "elapsed": 1160,
     "status": "ok",
     "timestamp": 1606225472026,
     "user": {
      "displayName": "Venu Gopal",
      "photoUrl": "https://lh3.googleusercontent.com/a-/AOh14GjlNMXLpvUhxu7s1cOc22aPqRTCt4eWQLV5ScRO=s64",
      "userId": "03033306627303867925"
     },
     "user_tz": -330
    },
    "id": "jxWxePcwSNMf"
   },
   "outputs": [],
   "source": [
    "# Below file conatains the names of images to be used in train data\n",
    "train_images_file = '/Data/Flickr8k_text/Flickr_8k.trainImages.txt'\n",
    "# Read the train image names in a set\n",
    "train_images = set(open(train_images_file, 'r').read().strip().split('\\n'))\n",
    "\n",
    "# Create a list of all the training images with their full path names\n",
    "train_img = []\n",
    "\n",
    "for i in img: # img is list of full path names of all images\n",
    "    if i[len(images):] in train_images: # Check if the image belongs to training set\n",
    "        train_img.append(i) # Add it to the list of train images"
   ]
  },
  {
   "cell_type": "code",
   "execution_count": 15,
   "metadata": {
    "ExecuteTime": {
     "end_time": "2020-11-24T14:14:02.831657Z",
     "start_time": "2020-11-24T14:14:02.802667Z"
    },
    "executionInfo": {
     "elapsed": 1030,
     "status": "ok",
     "timestamp": 1606225473471,
     "user": {
      "displayName": "Venu Gopal",
      "photoUrl": "https://lh3.googleusercontent.com/a-/AOh14GjlNMXLpvUhxu7s1cOc22aPqRTCt4eWQLV5ScRO=s64",
      "userId": "03033306627303867925"
     },
     "user_tz": -330
    },
    "id": "CihLXae4SNJ3"
   },
   "outputs": [],
   "source": [
    "\n",
    "# Below file conatains the names of images to be used in test data\n",
    "test_images_file = '/Data/Flickr8k_text/Flickr_8k.testImages.txt'\n",
    "# Read the validation image names in a set# Read the test image names in a set\n",
    "test_images = set(open(test_images_file, 'r').read().strip().split('\\n'))\n",
    "\n",
    "# Create a list of all the test images with their full path names\n",
    "test_img = []\n",
    "\n",
    "for i in img: # img is list of full path names of all images\n",
    "    if i[len(images):] in test_images: # Check if the image belongs to test set\n",
    "        test_img.append(i) # Add it to the list of test images"
   ]
  },
  {
   "cell_type": "code",
   "execution_count": 16,
   "metadata": {
    "ExecuteTime": {
     "end_time": "2020-11-24T14:14:04.338004Z",
     "start_time": "2020-11-24T14:14:04.134071Z"
    },
    "colab": {
     "base_uri": "https://localhost:8080/"
    },
    "executionInfo": {
     "elapsed": 1161,
     "status": "ok",
     "timestamp": 1606225474457,
     "user": {
      "displayName": "Venu Gopal",
      "photoUrl": "https://lh3.googleusercontent.com/a-/AOh14GjlNMXLpvUhxu7s1cOc22aPqRTCt4eWQLV5ScRO=s64",
      "userId": "03033306627303867925"
     },
     "user_tz": -330
    },
    "id": "Ed4FD4UdSNHB",
    "outputId": "fd457d53-7afc-45b4-b5d6-90b0ccefa328"
   },
   "outputs": [
    {
     "name": "stdout",
     "output_type": "stream",
     "text": [
      "Descriptions: train=6000\n"
     ]
    }
   ],
   "source": [
    "# load clean descriptions into memory\n",
    "def load_clean_descriptions(filename, dataset):\n",
    "    # load document\n",
    "    doc = load_doc(filename)\n",
    "    descriptions = dict()\n",
    "    for line in doc.split('\\n'):\n",
    "    # split line by white space\n",
    "        tokens = line.split()\n",
    "        # split id from description\n",
    "        image_id, image_desc = tokens[0], tokens[1:]\n",
    "        # skip images not in the set\n",
    "        if image_id in dataset:\n",
    "            # create list\n",
    "            if image_id not in descriptions:\n",
    "                descriptions[image_id] = list()\n",
    "            # wrap description in tokens\n",
    "            desc = 'startseq ' + ' '.join(image_desc) + ' endseq'\n",
    "            # store\n",
    "            descriptions[image_id].append(desc)\n",
    "    return descriptions\n",
    "\n",
    "# descriptions\n",
    "train_descriptions = load_clean_descriptions('descriptions.txt', train)\n",
    "print('Descriptions: train=%d' % len(train_descriptions))"
   ]
  },
  {
   "cell_type": "code",
   "execution_count": 17,
   "metadata": {
    "ExecuteTime": {
     "end_time": "2020-11-24T14:14:05.467697Z",
     "start_time": "2020-11-24T14:14:05.460703Z"
    },
    "executionInfo": {
     "elapsed": 1024,
     "status": "ok",
     "timestamp": 1606225479036,
     "user": {
      "displayName": "Venu Gopal",
      "photoUrl": "https://lh3.googleusercontent.com/a-/AOh14GjlNMXLpvUhxu7s1cOc22aPqRTCt4eWQLV5ScRO=s64",
      "userId": "03033306627303867925"
     },
     "user_tz": -330
    },
    "id": "7a1GRbibSNEa"
   },
   "outputs": [],
   "source": [
    "def preprocess(image_path):\n",
    "    # Convert all the images to size 299x299 as expected by the inception v3 model\n",
    "    img = image.load_img(image_path, target_size=(299, 299))\n",
    "    # Convert PIL image to numpy array of 3-dimensions\n",
    "    x = image.img_to_array(img)\n",
    "    # Add one more dimension\n",
    "    x = np.expand_dims(x, axis=0)\n",
    "    # preprocess the images using preprocess_input() from inception module\n",
    "    x = preprocess_input(x)\n",
    "    return x"
   ]
  },
  {
   "cell_type": "code",
   "execution_count": 18,
   "metadata": {
    "ExecuteTime": {
     "end_time": "2020-11-24T14:14:31.600532Z",
     "start_time": "2020-11-24T14:14:07.233460Z"
    },
    "executionInfo": {
     "elapsed": 4029,
     "status": "ok",
     "timestamp": 1606225485780,
     "user": {
      "displayName": "Venu Gopal",
      "photoUrl": "https://lh3.googleusercontent.com/a-/AOh14GjlNMXLpvUhxu7s1cOc22aPqRTCt4eWQLV5ScRO=s64",
      "userId": "03033306627303867925"
     },
     "user_tz": -330
    },
    "id": "G0YJ3WORSNBk"
   },
   "outputs": [
    {
     "name": "stdout",
     "output_type": "stream",
     "text": [
      "WARNING:tensorflow:From c:\\python\\python37\\lib\\site-packages\\keras\\backend\\tensorflow_backend.py:68: The name tf.get_default_graph is deprecated. Please use tf.compat.v1.get_default_graph instead.\n",
      "\n",
      "WARNING:tensorflow:From c:\\python\\python37\\lib\\site-packages\\keras\\backend\\tensorflow_backend.py:504: The name tf.placeholder is deprecated. Please use tf.compat.v1.placeholder instead.\n",
      "\n",
      "WARNING:tensorflow:From c:\\python\\python37\\lib\\site-packages\\keras\\backend\\tensorflow_backend.py:3828: The name tf.random_uniform is deprecated. Please use tf.random.uniform instead.\n",
      "\n",
      "WARNING:tensorflow:From c:\\python\\python37\\lib\\site-packages\\keras\\backend\\tensorflow_backend.py:166: The name tf.get_default_session is deprecated. Please use tf.compat.v1.get_default_session instead.\n",
      "\n",
      "WARNING:tensorflow:From c:\\python\\python37\\lib\\site-packages\\keras\\backend\\tensorflow_backend.py:171: The name tf.ConfigProto is deprecated. Please use tf.compat.v1.ConfigProto instead.\n",
      "\n",
      "WARNING:tensorflow:From c:\\python\\python37\\lib\\site-packages\\keras\\backend\\tensorflow_backend.py:1794: The name tf.nn.fused_batch_norm is deprecated. Please use tf.compat.v1.nn.fused_batch_norm instead.\n",
      "\n",
      "WARNING:tensorflow:From c:\\python\\python37\\lib\\site-packages\\keras\\backend\\tensorflow_backend.py:3652: The name tf.nn.max_pool is deprecated. Please use tf.nn.max_pool2d instead.\n",
      "\n",
      "WARNING:tensorflow:From c:\\python\\python37\\lib\\site-packages\\keras\\backend\\tensorflow_backend.py:3656: The name tf.nn.avg_pool is deprecated. Please use tf.nn.avg_pool2d instead.\n",
      "\n"
     ]
    }
   ],
   "source": [
    "\n",
    "# Load the inception v3 model\n",
    "model = InceptionV3(weights='imagenet')"
   ]
  },
  {
   "cell_type": "code",
   "execution_count": 19,
   "metadata": {
    "ExecuteTime": {
     "end_time": "2020-11-24T14:14:31.662514Z",
     "start_time": "2020-11-24T14:14:31.605533Z"
    },
    "executionInfo": {
     "elapsed": 953,
     "status": "ok",
     "timestamp": 1606225488253,
     "user": {
      "displayName": "Venu Gopal",
      "photoUrl": "https://lh3.googleusercontent.com/a-/AOh14GjlNMXLpvUhxu7s1cOc22aPqRTCt4eWQLV5ScRO=s64",
      "userId": "03033306627303867925"
     },
     "user_tz": -330
    },
    "id": "45tAaDVNSM-l"
   },
   "outputs": [],
   "source": [
    "\n",
    "# Create a new model, by removing the last layer (output layer) from the inception v3\n",
    "model_new = Model(model.input, model.layers[-2].output)"
   ]
  },
  {
   "cell_type": "code",
   "execution_count": 20,
   "metadata": {
    "ExecuteTime": {
     "end_time": "2020-11-24T14:14:31.694507Z",
     "start_time": "2020-11-24T14:14:31.676511Z"
    },
    "executionInfo": {
     "elapsed": 940,
     "status": "ok",
     "timestamp": 1606225490625,
     "user": {
      "displayName": "Venu Gopal",
      "photoUrl": "https://lh3.googleusercontent.com/a-/AOh14GjlNMXLpvUhxu7s1cOc22aPqRTCt4eWQLV5ScRO=s64",
      "userId": "03033306627303867925"
     },
     "user_tz": -330
    },
    "id": "cwjpHyipSM05"
   },
   "outputs": [],
   "source": [
    "# Function to encode a given image into a vector of size (2048, )\n",
    "def encode(image):\n",
    "    image = preprocess(image) # preprocess the image\n",
    "    fea_vec = model_new.predict(image) # Get the encoding vector for the image\n",
    "    fea_vec = np.reshape(fea_vec, fea_vec.shape[1]) # reshape from (1, 2048) to (2048, )\n",
    "    return fea_vec"
   ]
  },
  {
   "cell_type": "code",
   "execution_count": 21,
   "metadata": {
    "ExecuteTime": {
     "end_time": "2020-11-24T15:02:37.184091Z",
     "start_time": "2020-11-24T14:14:33.018567Z"
    },
    "colab": {
     "base_uri": "https://localhost:8080/"
    },
    "executionInfo": {
     "elapsed": 1085248,
     "status": "ok",
     "timestamp": 1606225348465,
     "user": {
      "displayName": "Venu Gopal",
      "photoUrl": "https://lh3.googleusercontent.com/a-/AOh14GjlNMXLpvUhxu7s1cOc22aPqRTCt4eWQLV5ScRO=s64",
      "userId": "03033306627303867925"
     },
     "user_tz": -330
    },
    "id": "tqMWmyhLS0cv",
    "outputId": "5c765a06-bd3f-43c9-e4fc-290d2a00ac31"
   },
   "outputs": [
    {
     "name": "stdout",
     "output_type": "stream",
     "text": [
      "Time taken in seconds = 2884.1336255073547\n"
     ]
    }
   ],
   "source": [
    "# Call the funtion to encode all the train images\n",
    "# This will take a while on CPU - Execute this only once\n",
    "start = time()\n",
    "encoding_train = {}\n",
    "for img in train_img:\n",
    "    encoding_train[img[len(images):]] = encode(img)\n",
    "print(\"Time taken in seconds =\", time()-start)"
   ]
  },
  {
   "cell_type": "code",
   "execution_count": 22,
   "metadata": {
    "ExecuteTime": {
     "end_time": "2020-11-24T15:02:37.216081Z",
     "start_time": "2020-11-24T15:02:37.193088Z"
    },
    "executionInfo": {
     "elapsed": 1062,
     "status": "ok",
     "timestamp": 1606225535892,
     "user": {
      "displayName": "Venu Gopal",
      "photoUrl": "https://lh3.googleusercontent.com/a-/AOh14GjlNMXLpvUhxu7s1cOc22aPqRTCt4eWQLV5ScRO=s64",
      "userId": "03033306627303867925"
     },
     "user_tz": -330
    },
    "id": "TOsvChxhgCaO"
   },
   "outputs": [],
   "source": [
    "import pickle"
   ]
  },
  {
   "cell_type": "code",
   "execution_count": 23,
   "metadata": {
    "ExecuteTime": {
     "end_time": "2020-11-24T15:02:37.716098Z",
     "start_time": "2020-11-24T15:02:37.223082Z"
    },
    "executionInfo": {
     "elapsed": 1239,
     "status": "ok",
     "timestamp": 1606225538390,
     "user": {
      "displayName": "Venu Gopal",
      "photoUrl": "https://lh3.googleusercontent.com/a-/AOh14GjlNMXLpvUhxu7s1cOc22aPqRTCt4eWQLV5ScRO=s64",
      "userId": "03033306627303867925"
     },
     "user_tz": -330
    },
    "id": "q5uEaQzVS3Ao"
   },
   "outputs": [],
   "source": [
    "# Save the bottleneck train features to disk\n",
    "with open(\"./encoded_train_images.pkl\", \"wb\") as encoded_pickle:\n",
    "    pickle.dump(encoding_train, encoded_pickle)"
   ]
  },
  {
   "cell_type": "code",
   "execution_count": 24,
   "metadata": {
    "ExecuteTime": {
     "end_time": "2020-11-24T15:10:23.991056Z",
     "start_time": "2020-11-24T15:02:37.722024Z"
    },
    "colab": {
     "base_uri": "https://localhost:8080/"
    },
    "executionInfo": {
     "elapsed": 550420,
     "status": "ok",
     "timestamp": 1606226093198,
     "user": {
      "displayName": "Venu Gopal",
      "photoUrl": "https://lh3.googleusercontent.com/a-/AOh14GjlNMXLpvUhxu7s1cOc22aPqRTCt4eWQLV5ScRO=s64",
      "userId": "03033306627303867925"
     },
     "user_tz": -330
    },
    "id": "GHyBg3SLTK2p",
    "outputId": "ef3fee56-bcf8-4606-d41d-ceba3cf72e8b"
   },
   "outputs": [
    {
     "name": "stdout",
     "output_type": "stream",
     "text": [
      "Time taken in seconds = 466.2450385093689\n"
     ]
    }
   ],
   "source": [
    "# Call the funtion to encode all the test images - Execute this only once\n",
    "start = time()\n",
    "encoding_test = {}\n",
    "for img in test_img:\n",
    "    encoding_test[img[len(images):]] = encode(img)\n",
    "print(\"Time taken in seconds =\", time()-start)"
   ]
  },
  {
   "cell_type": "code",
   "execution_count": 25,
   "metadata": {
    "ExecuteTime": {
     "end_time": "2020-11-24T15:10:24.083029Z",
     "start_time": "2020-11-24T15:10:23.996055Z"
    },
    "executionInfo": {
     "elapsed": 547473,
     "status": "ok",
     "timestamp": 1606226093199,
     "user": {
      "displayName": "Venu Gopal",
      "photoUrl": "https://lh3.googleusercontent.com/a-/AOh14GjlNMXLpvUhxu7s1cOc22aPqRTCt4eWQLV5ScRO=s64",
      "userId": "03033306627303867925"
     },
     "user_tz": -330
    },
    "id": "KCC5HWLvTKz1"
   },
   "outputs": [],
   "source": [
    "# Save the bottleneck test features to disk\n",
    "with open(\"./encoded_test_images.pkl\", \"wb\") as encoded_pickle:\n",
    "    pickle.dump(encoding_test, encoded_pickle)"
   ]
  },
  {
   "cell_type": "code",
   "execution_count": 26,
   "metadata": {
    "ExecuteTime": {
     "end_time": "2020-11-24T15:10:24.770305Z",
     "start_time": "2020-11-24T15:10:24.510370Z"
    },
    "colab": {
     "base_uri": "https://localhost:8080/"
    },
    "executionInfo": {
     "elapsed": 544819,
     "status": "ok",
     "timestamp": 1606226093200,
     "user": {
      "displayName": "Venu Gopal",
      "photoUrl": "https://lh3.googleusercontent.com/a-/AOh14GjlNMXLpvUhxu7s1cOc22aPqRTCt4eWQLV5ScRO=s64",
      "userId": "03033306627303867925"
     },
     "user_tz": -330
    },
    "id": "Y5CmsXSdTKw3",
    "outputId": "fb725c80-cdd5-43ad-bd14-45b43da7380d"
   },
   "outputs": [
    {
     "name": "stdout",
     "output_type": "stream",
     "text": [
      "Photos: train=6000\n"
     ]
    }
   ],
   "source": [
    "train_features = load(open(\"./encoded_train_images.pkl\", \"rb\"))\n",
    "print('Photos: train=%d' % len(train_features))"
   ]
  },
  {
   "cell_type": "code",
   "execution_count": 27,
   "metadata": {
    "ExecuteTime": {
     "end_time": "2020-11-24T15:10:24.851292Z",
     "start_time": "2020-11-24T15:10:24.778303Z"
    },
    "colab": {
     "base_uri": "https://localhost:8080/"
    },
    "executionInfo": {
     "elapsed": 543806,
     "status": "ok",
     "timestamp": 1606226093200,
     "user": {
      "displayName": "Venu Gopal",
      "photoUrl": "https://lh3.googleusercontent.com/a-/AOh14GjlNMXLpvUhxu7s1cOc22aPqRTCt4eWQLV5ScRO=s64",
      "userId": "03033306627303867925"
     },
     "user_tz": -330
    },
    "id": "lfK7mkkQTKub",
    "outputId": "45c88c66-665c-4a3f-fd24-8f61ff9f6f5c"
   },
   "outputs": [
    {
     "data": {
      "text/plain": [
       "30000"
      ]
     },
     "execution_count": 27,
     "metadata": {},
     "output_type": "execute_result"
    }
   ],
   "source": [
    "# Create a list of all the training captions\n",
    "all_train_captions = []\n",
    "for key, val in train_descriptions.items():\n",
    "    for cap in val:\n",
    "        all_train_captions.append(cap)\n",
    "len(all_train_captions)"
   ]
  },
  {
   "cell_type": "code",
   "execution_count": 28,
   "metadata": {
    "ExecuteTime": {
     "end_time": "2020-11-24T15:10:25.180306Z",
     "start_time": "2020-11-24T15:10:24.859279Z"
    },
    "colab": {
     "base_uri": "https://localhost:8080/"
    },
    "executionInfo": {
     "elapsed": 541418,
     "status": "ok",
     "timestamp": 1606226093201,
     "user": {
      "displayName": "Venu Gopal",
      "photoUrl": "https://lh3.googleusercontent.com/a-/AOh14GjlNMXLpvUhxu7s1cOc22aPqRTCt4eWQLV5ScRO=s64",
      "userId": "03033306627303867925"
     },
     "user_tz": -330
    },
    "id": "gbOOMFFUTKra",
    "outputId": "8d618aec-6dc3-415c-ca71-8fe36ba785c3"
   },
   "outputs": [
    {
     "name": "stdout",
     "output_type": "stream",
     "text": [
      "preprocessed words 7578 -> 1651\n"
     ]
    }
   ],
   "source": [
    "# Consider only words which occur at least 10 times in the corpus\n",
    "word_count_threshold = 10\n",
    "word_counts = {}\n",
    "nsents = 0\n",
    "for sent in all_train_captions:\n",
    "    nsents += 1\n",
    "    for w in sent.split(' '):\n",
    "        word_counts[w] = word_counts.get(w, 0) + 1\n",
    "\n",
    "vocab = [w for w in word_counts if word_counts[w] >= word_count_threshold]\n",
    "print('preprocessed words %d -> %d' % (len(word_counts), len(vocab)))"
   ]
  },
  {
   "cell_type": "code",
   "execution_count": 29,
   "metadata": {
    "ExecuteTime": {
     "end_time": "2020-11-24T15:10:25.196247Z",
     "start_time": "2020-11-24T15:10:25.187249Z"
    },
    "executionInfo": {
     "elapsed": 540385,
     "status": "ok",
     "timestamp": 1606226093201,
     "user": {
      "displayName": "Venu Gopal",
      "photoUrl": "https://lh3.googleusercontent.com/a-/AOh14GjlNMXLpvUhxu7s1cOc22aPqRTCt4eWQLV5ScRO=s64",
      "userId": "03033306627303867925"
     },
     "user_tz": -330
    },
    "id": "iq8RJXWvTKoz"
   },
   "outputs": [],
   "source": [
    "ixtoword = {}\n",
    "wordtoix = {}\n",
    "\n",
    "ix = 1\n",
    "for w in vocab:\n",
    "    wordtoix[w] = ix\n",
    "    ixtoword[ix] = w\n",
    "    ix += 1"
   ]
  },
  {
   "cell_type": "code",
   "execution_count": 30,
   "metadata": {
    "ExecuteTime": {
     "end_time": "2020-11-24T15:10:25.230237Z",
     "start_time": "2020-11-24T15:10:25.203245Z"
    },
    "colab": {
     "base_uri": "https://localhost:8080/"
    },
    "executionInfo": {
     "elapsed": 538765,
     "status": "ok",
     "timestamp": 1606226093202,
     "user": {
      "displayName": "Venu Gopal",
      "photoUrl": "https://lh3.googleusercontent.com/a-/AOh14GjlNMXLpvUhxu7s1cOc22aPqRTCt4eWQLV5ScRO=s64",
      "userId": "03033306627303867925"
     },
     "user_tz": -330
    },
    "id": "r8q26KY4TKmQ",
    "outputId": "f8606276-ef86-4ab7-845e-2e74153df48f"
   },
   "outputs": [
    {
     "data": {
      "text/plain": [
       "1652"
      ]
     },
     "execution_count": 30,
     "metadata": {},
     "output_type": "execute_result"
    }
   ],
   "source": [
    "vocab_size = len(ixtoword) + 1 # one for appended 0's\n",
    "vocab_size"
   ]
  },
  {
   "cell_type": "code",
   "execution_count": 31,
   "metadata": {
    "ExecuteTime": {
     "end_time": "2020-11-24T15:10:25.321206Z",
     "start_time": "2020-11-24T15:10:25.237235Z"
    },
    "colab": {
     "base_uri": "https://localhost:8080/"
    },
    "executionInfo": {
     "elapsed": 537798,
     "status": "ok",
     "timestamp": 1606226093202,
     "user": {
      "displayName": "Venu Gopal",
      "photoUrl": "https://lh3.googleusercontent.com/a-/AOh14GjlNMXLpvUhxu7s1cOc22aPqRTCt4eWQLV5ScRO=s64",
      "userId": "03033306627303867925"
     },
     "user_tz": -330
    },
    "id": "q7fkKLumTKjg",
    "outputId": "e955de17-8f8f-45da-ae43-153be6be6a8c"
   },
   "outputs": [
    {
     "name": "stdout",
     "output_type": "stream",
     "text": [
      "Description Length: 34\n"
     ]
    }
   ],
   "source": [
    "# convert a dictionary of clean descriptions to a list of descriptions\n",
    "def to_lines(descriptions):\n",
    "    all_desc = list()\n",
    "    for key in descriptions.keys():\n",
    "        [all_desc.append(d) for d in descriptions[key]]\n",
    "    return all_desc\n",
    "\n",
    "# calculate the length of the description with the most words\n",
    "def max_length(descriptions):\n",
    "    lines = to_lines(descriptions)\n",
    "    return max(len(d.split()) for d in lines)\n",
    "\n",
    "# determine the maximum sequence length\n",
    "max_length = max_length(train_descriptions)\n",
    "print('Description Length: %d' % max_length)"
   ]
  },
  {
   "cell_type": "code",
   "execution_count": 32,
   "metadata": {
    "ExecuteTime": {
     "end_time": "2020-11-24T15:10:25.353198Z",
     "start_time": "2020-11-24T15:10:25.326208Z"
    },
    "executionInfo": {
     "elapsed": 535819,
     "status": "ok",
     "timestamp": 1606226093203,
     "user": {
      "displayName": "Venu Gopal",
      "photoUrl": "https://lh3.googleusercontent.com/a-/AOh14GjlNMXLpvUhxu7s1cOc22aPqRTCt4eWQLV5ScRO=s64",
      "userId": "03033306627303867925"
     },
     "user_tz": -330
    },
    "id": "B99w5OQpTKgL"
   },
   "outputs": [],
   "source": [
    "# data generator, intended to be used in a call to model.fit_generator()\n",
    "def data_generator(descriptions, photos, wordtoix, max_length, num_photos_per_batch):\n",
    "    X1, X2, y = list(), list(), list()\n",
    "    n=0\n",
    "    # loop for ever over images\n",
    "    while 1:\n",
    "        for key, desc_list in descriptions.items():\n",
    "            n+=1\n",
    "            # retrieve the photo feature\n",
    "            photo = photos[key+'.jpg']\n",
    "            for desc in desc_list:\n",
    "                # encode the sequence\n",
    "                seq = [wordtoix[word] for word in desc.split(' ') if word in wordtoix]\n",
    "                # split one sequence into multiple X, y pairs\n",
    "                for i in range(1, len(seq)):\n",
    "                    # split into input and output pair\n",
    "                    in_seq, out_seq = seq[:i], seq[i]\n",
    "                    # pad input sequence\n",
    "                    in_seq = pad_sequences([in_seq], maxlen=max_length)[0]\n",
    "                    # encode output sequence\n",
    "                    out_seq = to_categorical([out_seq], num_classes=vocab_size)[0]\n",
    "                    # store\n",
    "                    X1.append(photo)\n",
    "                    X2.append(in_seq)\n",
    "                    y.append(out_seq)\n",
    "            # yield the batch data\n",
    "            if n==num_photos_per_batch:\n",
    "                yield [[array(X1), array(X2)], array(y)]\n",
    "                X1, X2, y = list(), list(), list()\n",
    "                n=0"
   ]
  },
  {
   "cell_type": "code",
   "execution_count": 54,
   "metadata": {
    "colab": {
     "base_uri": "https://localhost:8080/"
    },
    "executionInfo": {
     "elapsed": 416499,
     "status": "ok",
     "timestamp": 1606226509715,
     "user": {
      "displayName": "Venu Gopal",
      "photoUrl": "https://lh3.googleusercontent.com/a-/AOh14GjlNMXLpvUhxu7s1cOc22aPqRTCt4eWQLV5ScRO=s64",
      "userId": "03033306627303867925"
     },
     "user_tz": -330
    },
    "id": "QBoZFMAVTKbl",
    "outputId": "1ae8a70b-f597-46b1-98c9-d7d860bdca1a"
   },
   "outputs": [
    {
     "name": "stdout",
     "output_type": "stream",
     "text": [
      "--2020-11-24 13:54:54--  http://nlp.stanford.edu/data/wordvecs/glove.6B.zip\n",
      "Resolving nlp.stanford.edu (nlp.stanford.edu)... 171.64.67.140\n",
      "Connecting to nlp.stanford.edu (nlp.stanford.edu)|171.64.67.140|:80... connected.\n",
      "HTTP request sent, awaiting response... 302 Found\n",
      "Location: https://nlp.stanford.edu/data/wordvecs/glove.6B.zip [following]\n",
      "--2020-11-24 13:54:54--  https://nlp.stanford.edu/data/wordvecs/glove.6B.zip\n",
      "Connecting to nlp.stanford.edu (nlp.stanford.edu)|171.64.67.140|:443... connected.\n",
      "HTTP request sent, awaiting response... 301 Moved Permanently\n",
      "Location: http://downloads.cs.stanford.edu/nlp/data/wordvecs/glove.6B.zip [following]\n",
      "--2020-11-24 13:54:54--  http://downloads.cs.stanford.edu/nlp/data/wordvecs/glove.6B.zip\n",
      "Resolving downloads.cs.stanford.edu (downloads.cs.stanford.edu)... 171.64.64.22\n",
      "Connecting to downloads.cs.stanford.edu (downloads.cs.stanford.edu)|171.64.64.22|:80... connected.\n",
      "HTTP request sent, awaiting response... 200 OK\n",
      "Length: 862182753 (822M) [application/zip]\n",
      "Saving to: ‘glove.6B.zip’\n",
      "\n",
      "glove.6B.zip        100%[===================>] 822.24M  2.00MB/s    in 6m 29s  \n",
      "\n",
      "2020-11-24 14:01:23 (2.11 MB/s) - ‘glove.6B.zip’ saved [862182753/862182753]\n",
      "\n",
      "Archive:  glove.6B.zip\n",
      "  inflating: glove.6B.100d.txt       \n",
      "  inflating: glove.6B.200d.txt       \n",
      "  inflating: glove.6B.300d.txt       \n",
      "  inflating: glove.6B.50d.txt        \n"
     ]
    }
   ],
   "source": [
    "# !wget http://nlp.stanford.edu/data/wordvecs/glove.6B.zip\n",
    "# !unzip glove.6B.zip"
   ]
  },
  {
   "cell_type": "code",
   "execution_count": null,
   "metadata": {
    "ExecuteTime": {
     "end_time": "2020-11-24T15:27:01.516757Z",
     "start_time": "2020-11-24T15:10:51.680Z"
    },
    "colab": {
     "base_uri": "https://localhost:8080/"
    },
    "executionInfo": {
     "elapsed": 20831,
     "status": "ok",
     "timestamp": 1606226648107,
     "user": {
      "displayName": "Venu Gopal",
      "photoUrl": "https://lh3.googleusercontent.com/a-/AOh14GjlNMXLpvUhxu7s1cOc22aPqRTCt4eWQLV5ScRO=s64",
      "userId": "03033306627303867925"
     },
     "user_tz": -330
    },
    "id": "S0FO_r50TycY",
    "outputId": "8c25c042-20e7-4455-ae78-dd6e316da77e"
   },
   "outputs": [],
   "source": [
    "# Load Glove vectors\n",
    "glove_dir = '/Data/glove/'\n",
    "embeddings_index = {} # empty dictionary\n",
    "f = open(os.path.join(glove_dir, 'glove.6B.200d.txt'), encoding=\"utf-8\")\n",
    "\n",
    "for line in f:\n",
    "    values = line.split()\n",
    "    word = values[0]\n",
    "    coefs = np.asarray(values[1:], dtype='float32')\n",
    "    embeddings_index[word] = coefs\n",
    "f.close()\n",
    "print('Found %s word vectors.' % len(embeddings_index))"
   ]
  },
  {
   "cell_type": "code",
   "execution_count": 34,
   "metadata": {
    "ExecuteTime": {
     "end_time": "2020-11-24T15:11:23.780629Z",
     "start_time": "2020-11-24T15:11:23.738581Z"
    },
    "executionInfo": {
     "elapsed": 1673,
     "status": "ok",
     "timestamp": 1606226657489,
     "user": {
      "displayName": "Venu Gopal",
      "photoUrl": "https://lh3.googleusercontent.com/a-/AOh14GjlNMXLpvUhxu7s1cOc22aPqRTCt4eWQLV5ScRO=s64",
      "userId": "03033306627303867925"
     },
     "user_tz": -330
    },
    "id": "TEXez3roTyZu"
   },
   "outputs": [],
   "source": [
    "embedding_dim = 200\n",
    "\n",
    "# Get 200-dim dense vector for each of the 10000 words in out vocabulary\n",
    "embedding_matrix = np.zeros((vocab_size, embedding_dim))\n",
    "\n",
    "for word, i in wordtoix.items():\n",
    "    #if i < max_words:\n",
    "    embedding_vector = embeddings_index.get(word)\n",
    "    if embedding_vector is not None:\n",
    "        # Words not found in the embedding index will be all zeros\n",
    "        embedding_matrix[i] = embedding_vector"
   ]
  },
  {
   "cell_type": "code",
   "execution_count": 35,
   "metadata": {
    "ExecuteTime": {
     "end_time": "2020-11-24T15:11:23.796586Z",
     "start_time": "2020-11-24T15:11:23.783594Z"
    },
    "colab": {
     "base_uri": "https://localhost:8080/"
    },
    "executionInfo": {
     "elapsed": 660,
     "status": "ok",
     "timestamp": 1606226658680,
     "user": {
      "displayName": "Venu Gopal",
      "photoUrl": "https://lh3.googleusercontent.com/a-/AOh14GjlNMXLpvUhxu7s1cOc22aPqRTCt4eWQLV5ScRO=s64",
      "userId": "03033306627303867925"
     },
     "user_tz": -330
    },
    "id": "qS9fKFuwTyXE",
    "outputId": "d6edabb5-bcdc-4b11-9533-c34fbe4a4cca"
   },
   "outputs": [
    {
     "data": {
      "text/plain": [
       "(1652, 200)"
      ]
     },
     "execution_count": 35,
     "metadata": {},
     "output_type": "execute_result"
    }
   ],
   "source": [
    "embedding_matrix.shape\n"
   ]
  },
  {
   "cell_type": "code",
   "execution_count": 36,
   "metadata": {
    "ExecuteTime": {
     "end_time": "2020-11-24T15:11:28.745210Z",
     "start_time": "2020-11-24T15:11:23.804589Z"
    },
    "executionInfo": {
     "elapsed": 2366,
     "status": "ok",
     "timestamp": 1606226666282,
     "user": {
      "displayName": "Venu Gopal",
      "photoUrl": "https://lh3.googleusercontent.com/a-/AOh14GjlNMXLpvUhxu7s1cOc22aPqRTCt4eWQLV5ScRO=s64",
      "userId": "03033306627303867925"
     },
     "user_tz": -330
    },
    "id": "r5GOKVyoTyUb"
   },
   "outputs": [
    {
     "name": "stdout",
     "output_type": "stream",
     "text": [
      "WARNING:tensorflow:From c:\\python\\python37\\lib\\site-packages\\keras\\backend\\tensorflow_backend.py:3135: calling dropout (from tensorflow.python.ops.nn_ops) with keep_prob is deprecated and will be removed in a future version.\n",
      "Instructions for updating:\n",
      "Please use `rate` instead of `keep_prob`. Rate should be set to `rate = 1 - keep_prob`.\n",
      "WARNING:tensorflow:From c:\\python\\python37\\lib\\site-packages\\keras\\backend\\tensorflow_backend.py:2731: add_dispatch_support.<locals>.wrapper (from tensorflow.python.ops.array_ops) is deprecated and will be removed in a future version.\n",
      "Instructions for updating:\n",
      "Use tf.where in 2.0, which has the same broadcast rule as np.where\n"
     ]
    }
   ],
   "source": [
    "inputs1 = Input(shape=(2048,))\n",
    "fe1 = Dropout(0.5)(inputs1)\n",
    "fe2 = Dense(256, activation='relu')(fe1)\n",
    "inputs2 = Input(shape=(max_length,))\n",
    "se1 = Embedding(vocab_size, embedding_dim, mask_zero=True)(inputs2)\n",
    "se2 = Dropout(0.5)(se1)\n",
    "se3 = LSTM(256)(se2)\n",
    "decoder1 = add([fe2, se3])\n",
    "decoder2 = Dense(256, activation='relu')(decoder1)\n",
    "outputs = Dense(vocab_size, activation='softmax')(decoder2)\n",
    "model = Model(inputs=[inputs1, inputs2], outputs=outputs)"
   ]
  },
  {
   "cell_type": "code",
   "execution_count": 37,
   "metadata": {
    "ExecuteTime": {
     "end_time": "2020-11-24T15:11:28.776204Z",
     "start_time": "2020-11-24T15:11:28.749209Z"
    },
    "colab": {
     "base_uri": "https://localhost:8080/"
    },
    "executionInfo": {
     "elapsed": 963,
     "status": "ok",
     "timestamp": 1606226668567,
     "user": {
      "displayName": "Venu Gopal",
      "photoUrl": "https://lh3.googleusercontent.com/a-/AOh14GjlNMXLpvUhxu7s1cOc22aPqRTCt4eWQLV5ScRO=s64",
      "userId": "03033306627303867925"
     },
     "user_tz": -330
    },
    "id": "P8LDWBsWTyRi",
    "outputId": "3e3b5d63-fe31-4de3-cd98-a41eac6a5f98"
   },
   "outputs": [
    {
     "name": "stdout",
     "output_type": "stream",
     "text": [
      "__________________________________________________________________________________________________\n",
      "Layer (type)                    Output Shape         Param #     Connected to                     \n",
      "==================================================================================================\n",
      "input_3 (InputLayer)            (None, 34)           0                                            \n",
      "__________________________________________________________________________________________________\n",
      "input_2 (InputLayer)            (None, 2048)         0                                            \n",
      "__________________________________________________________________________________________________\n",
      "embedding_1 (Embedding)         (None, 34, 200)      330400      input_3[0][0]                    \n",
      "__________________________________________________________________________________________________\n",
      "dropout_1 (Dropout)             (None, 2048)         0           input_2[0][0]                    \n",
      "__________________________________________________________________________________________________\n",
      "dropout_2 (Dropout)             (None, 34, 200)      0           embedding_1[0][0]                \n",
      "__________________________________________________________________________________________________\n",
      "dense_1 (Dense)                 (None, 256)          524544      dropout_1[0][0]                  \n",
      "__________________________________________________________________________________________________\n",
      "lstm_1 (LSTM)                   (None, 256)          467968      dropout_2[0][0]                  \n",
      "__________________________________________________________________________________________________\n",
      "add_1 (Add)                     (None, 256)          0           dense_1[0][0]                    \n",
      "                                                                 lstm_1[0][0]                     \n",
      "__________________________________________________________________________________________________\n",
      "dense_2 (Dense)                 (None, 256)          65792       add_1[0][0]                      \n",
      "__________________________________________________________________________________________________\n",
      "dense_3 (Dense)                 (None, 1652)         424564      dense_2[0][0]                    \n",
      "==================================================================================================\n",
      "Total params: 1,813,268\n",
      "Trainable params: 1,813,268\n",
      "Non-trainable params: 0\n",
      "__________________________________________________________________________________________________\n"
     ]
    }
   ],
   "source": [
    "model.summary()"
   ]
  },
  {
   "cell_type": "code",
   "execution_count": 38,
   "metadata": {
    "ExecuteTime": {
     "end_time": "2020-11-24T15:11:28.808187Z",
     "start_time": "2020-11-24T15:11:28.781198Z"
    },
    "colab": {
     "base_uri": "https://localhost:8080/"
    },
    "executionInfo": {
     "elapsed": 1096,
     "status": "ok",
     "timestamp": 1606226696192,
     "user": {
      "displayName": "Venu Gopal",
      "photoUrl": "https://lh3.googleusercontent.com/a-/AOh14GjlNMXLpvUhxu7s1cOc22aPqRTCt4eWQLV5ScRO=s64",
      "userId": "03033306627303867925"
     },
     "user_tz": -330
    },
    "id": "UPX3GZYzTyOc",
    "outputId": "10cc6f00-ba44-4751-f813-d66d19f78dab"
   },
   "outputs": [
    {
     "data": {
      "text/plain": [
       "<keras.layers.embeddings.Embedding at 0x257dfbfee88>"
      ]
     },
     "execution_count": 38,
     "metadata": {},
     "output_type": "execute_result"
    }
   ],
   "source": [
    "model.layers[2]"
   ]
  },
  {
   "cell_type": "code",
   "execution_count": 39,
   "metadata": {
    "ExecuteTime": {
     "end_time": "2020-11-24T15:11:31.755617Z",
     "start_time": "2020-11-24T15:11:28.820188Z"
    },
    "executionInfo": {
     "elapsed": 1140,
     "status": "ok",
     "timestamp": 1606226703203,
     "user": {
      "displayName": "Venu Gopal",
      "photoUrl": "https://lh3.googleusercontent.com/a-/AOh14GjlNMXLpvUhxu7s1cOc22aPqRTCt4eWQLV5ScRO=s64",
      "userId": "03033306627303867925"
     },
     "user_tz": -330
    },
    "id": "_NBl1PE0TyLf"
   },
   "outputs": [],
   "source": [
    "model.layers[2].set_weights([embedding_matrix])\n",
    "model.layers[2].trainable = False"
   ]
  },
  {
   "cell_type": "code",
   "execution_count": 83,
   "metadata": {
    "ExecuteTime": {
     "end_time": "2020-11-25T06:43:22.152524Z",
     "start_time": "2020-11-25T06:43:21.254811Z"
    },
    "executionInfo": {
     "elapsed": 881,
     "status": "ok",
     "timestamp": 1606226704620,
     "user": {
      "displayName": "Venu Gopal",
      "photoUrl": "https://lh3.googleusercontent.com/a-/AOh14GjlNMXLpvUhxu7s1cOc22aPqRTCt4eWQLV5ScRO=s64",
      "userId": "03033306627303867925"
     },
     "user_tz": -330
    },
    "id": "bDXmkTS2UUo-"
   },
   "outputs": [],
   "source": [
    "model.compile(loss='categorical_crossentropy', optimizer='adam')"
   ]
  },
  {
   "cell_type": "code",
   "execution_count": 41,
   "metadata": {
    "ExecuteTime": {
     "end_time": "2020-11-24T15:11:31.945846Z",
     "start_time": "2020-11-24T15:11:31.922851Z"
    },
    "executionInfo": {
     "elapsed": 935,
     "status": "ok",
     "timestamp": 1606226706722,
     "user": {
      "displayName": "Venu Gopal",
      "photoUrl": "https://lh3.googleusercontent.com/a-/AOh14GjlNMXLpvUhxu7s1cOc22aPqRTCt4eWQLV5ScRO=s64",
      "userId": "03033306627303867925"
     },
     "user_tz": -330
    },
    "id": "l8fRZj1rUUmt"
   },
   "outputs": [],
   "source": [
    "epochs = 10\n",
    "number_pics_per_bath = 3\n",
    "steps = len(train_descriptions)//number_pics_per_bath"
   ]
  },
  {
   "cell_type": "code",
   "execution_count": 43,
   "metadata": {
    "ExecuteTime": {
     "end_time": "2020-11-24T18:28:03.599090Z",
     "start_time": "2020-11-24T15:30:14.448395Z"
    },
    "colab": {
     "base_uri": "https://localhost:8080/",
     "height": 939
    },
    "executionInfo": {
     "elapsed": 1859,
     "status": "error",
     "timestamp": 1606226711450,
     "user": {
      "displayName": "Venu Gopal",
      "photoUrl": "https://lh3.googleusercontent.com/a-/AOh14GjlNMXLpvUhxu7s1cOc22aPqRTCt4eWQLV5ScRO=s64",
      "userId": "03033306627303867925"
     },
     "user_tz": -330
    },
    "id": "kp1gk6IHUUju",
    "outputId": "72c65cb4-4a65-473a-be7a-112949fe61e2"
   },
   "outputs": [
    {
     "name": "stdout",
     "output_type": "stream",
     "text": [
      "Epoch 1/1\n",
      "2000/2000 [==============================] - 960s 480ms/step - loss: 3.4205\n",
      "Epoch 1/1\n",
      "2000/2000 [==============================] - 976s 488ms/step - loss: 3.1975\n",
      "Epoch 1/1\n",
      "2000/2000 [==============================] - 1019s 509ms/step - loss: 3.0649\n",
      "Epoch 1/1\n",
      "2000/2000 [==============================] - 1005s 503ms/step - loss: 2.9725\n",
      "Epoch 1/1\n",
      "2000/2000 [==============================] - 1101s 551ms/step - loss: 2.9011\n",
      "Epoch 1/1\n",
      "2000/2000 [==============================] - 1124s 562ms/step - loss: 2.8445\n",
      "Epoch 1/1\n",
      "2000/2000 [==============================] - 1121s 561ms/step - loss: 2.7953\n",
      "Epoch 1/1\n",
      "2000/2000 [==============================] - 1122s 561ms/step - loss: 2.7570\n",
      "Epoch 1/1\n",
      "2000/2000 [==============================] - 1122s 561ms/step - loss: 2.7209\n",
      "Epoch 1/1\n",
      "2000/2000 [==============================] - 1116s 558ms/step - loss: 2.6925\n"
     ]
    }
   ],
   "source": [
    "for i in range(epochs):\n",
    "    generator = data_generator(train_descriptions, train_features, wordtoix, max_length, number_pics_per_bath)\n",
    "    model.fit_generator(generator, epochs=1, steps_per_epoch=steps, verbose=1)\n",
    "    model.save('/Data/model_weights/model_' + str(i) + '.h5')"
   ]
  },
  {
   "cell_type": "code",
   "execution_count": 81,
   "metadata": {
    "ExecuteTime": {
     "end_time": "2020-11-25T03:56:00.006378Z",
     "start_time": "2020-11-25T03:55:59.988381Z"
    },
    "executionInfo": {
     "elapsed": 982,
     "status": "ok",
     "timestamp": 1606226729056,
     "user": {
      "displayName": "Venu Gopal",
      "photoUrl": "https://lh3.googleusercontent.com/a-/AOh14GjlNMXLpvUhxu7s1cOc22aPqRTCt4eWQLV5ScRO=s64",
      "userId": "03033306627303867925"
     },
     "user_tz": -330
    },
    "id": "q1seEeyeUUeP"
   },
   "outputs": [],
   "source": [
    "model.optimizer.lr = 0.0001\n",
    "epochs = 10\n",
    "number_pics_per_bath = 6\n",
    "steps = len(train_descriptions)//number_pics_per_bath"
   ]
  },
  {
   "cell_type": "code",
   "execution_count": 82,
   "metadata": {
    "ExecuteTime": {
     "end_time": "2020-11-25T06:43:21.208826Z",
     "start_time": "2020-11-25T03:56:00.818237Z"
    },
    "colab": {
     "base_uri": "https://localhost:8080/",
     "height": 868
    },
    "executionInfo": {
     "elapsed": 1866,
     "status": "error",
     "timestamp": 1606226731852,
     "user": {
      "displayName": "Venu Gopal",
      "photoUrl": "https://lh3.googleusercontent.com/a-/AOh14GjlNMXLpvUhxu7s1cOc22aPqRTCt4eWQLV5ScRO=s64",
      "userId": "03033306627303867925"
     },
     "user_tz": -330
    },
    "id": "mGqbmVFuUUbT",
    "outputId": "9e934413-7d69-44ad-cab9-1f432f27e927",
    "scrolled": true
   },
   "outputs": [
    {
     "name": "stdout",
     "output_type": "stream",
     "text": [
      "Epoch 1/1\n",
      "1000/1000 [==============================] - 1144s 1s/step - loss: 2.5652\n",
      "Epoch 1/1\n",
      "1000/1000 [==============================] - 987s 987ms/step - loss: 2.5467\n",
      "Epoch 1/1\n",
      "1000/1000 [==============================] - 856s 856ms/step - loss: 2.5305\n",
      "Epoch 1/1\n",
      "1000/1000 [==============================] - 869s 869ms/step - loss: 2.5153\n",
      "Epoch 1/1\n",
      "1000/1000 [==============================] - 990s 990ms/step - loss: 2.5023\n",
      "Epoch 1/1\n",
      "1000/1000 [==============================] - 927s 927ms/step - loss: 2.4904\n",
      "Epoch 1/1\n",
      "1000/1000 [==============================] - 967s 967ms/step - loss: 2.4772\n",
      "Epoch 1/1\n",
      "1000/1000 [==============================] - 1128s 1s/step - loss: 2.4640\n",
      "Epoch 1/1\n",
      "1000/1000 [==============================] - 1085s 1s/step - loss: 2.4541\n",
      "Epoch 1/1\n",
      "1000/1000 [==============================] - 1086s 1s/step - loss: 2.4445\n"
     ]
    }
   ],
   "source": [
    "for i in range(epochs):\n",
    "    generator = data_generator(train_descriptions, train_features, wordtoix, max_length, number_pics_per_bath)\n",
    "    model.fit_generator(generator, epochs=1, steps_per_epoch=steps, verbose=1)\n",
    "    #model.save('./model_' + str(i) + '.h5')"
   ]
  },
  {
   "cell_type": "code",
   "execution_count": 109,
   "metadata": {
    "ExecuteTime": {
     "end_time": "2020-11-25T06:48:48.192734Z",
     "start_time": "2020-11-25T06:48:47.092106Z"
    },
    "id": "FpbJCAaGU1XQ"
   },
   "outputs": [],
   "source": [
    "from keras.utils import plot_model\n",
    "\n",
    "plot_model(model, to_file='model_final.png', show_shapes=True)"
   ]
  },
  {
   "cell_type": "code",
   "execution_count": 102,
   "metadata": {
    "ExecuteTime": {
     "end_time": "2020-11-25T06:46:50.135854Z",
     "start_time": "2020-11-25T06:46:50.064859Z"
    },
    "id": "on6FoiLUU1Ze"
   },
   "outputs": [],
   "source": [
    "model.save_weights('./models/model_9.h5')"
   ]
  },
  {
   "cell_type": "code",
   "execution_count": 103,
   "metadata": {
    "ExecuteTime": {
     "end_time": "2020-11-25T06:46:50.751964Z",
     "start_time": "2020-11-25T06:46:50.714973Z"
    },
    "id": "Jb7Q59OVU1Ub"
   },
   "outputs": [],
   "source": [
    "model.load_weights('./models/model_9.h5')\n"
   ]
  },
  {
   "cell_type": "code",
   "execution_count": 88,
   "metadata": {
    "ExecuteTime": {
     "end_time": "2020-11-25T06:44:29.310875Z",
     "start_time": "2020-11-25T06:44:29.303878Z"
    },
    "id": "kGALiD42U1Rk"
   },
   "outputs": [],
   "source": [
    "images = '/Data/Flicker8k_Dataset/'"
   ]
  },
  {
   "cell_type": "code",
   "execution_count": 89,
   "metadata": {
    "ExecuteTime": {
     "end_time": "2020-11-25T06:44:30.415002Z",
     "start_time": "2020-11-25T06:44:30.271051Z"
    },
    "id": "IktO8nbVU1On"
   },
   "outputs": [],
   "source": [
    "\n",
    "with open(\"./encoded_test_images.pkl\", \"rb\") as encoded_pickle:\n",
    "    encoding_test = load(encoded_pickle)"
   ]
  },
  {
   "cell_type": "code",
   "execution_count": 90,
   "metadata": {
    "ExecuteTime": {
     "end_time": "2020-11-25T06:44:31.438007Z",
     "start_time": "2020-11-25T06:44:31.388024Z"
    },
    "id": "rp2o1Nb3U1Iy"
   },
   "outputs": [],
   "source": [
    "def greedySearch(photo):\n",
    "    in_text = 'startseq'\n",
    "    for i in range(max_length):\n",
    "        sequence = [wordtoix[w] for w in in_text.split() if w in wordtoix]\n",
    "        sequence = pad_sequences([sequence], maxlen=max_length)\n",
    "        yhat = model.predict([photo,sequence], verbose=0)\n",
    "        yhat = np.argmax(yhat)\n",
    "        word = ixtoword[yhat]\n",
    "        in_text += ' ' + word\n",
    "        if word == 'endseq':\n",
    "            break\n",
    "    final = in_text.split()\n",
    "    final = final[1:-1]\n",
    "    final = ' '.join(final)\n",
    "    return final\n"
   ]
  },
  {
   "cell_type": "code",
   "execution_count": 107,
   "metadata": {
    "ExecuteTime": {
     "end_time": "2020-11-25T06:47:24.715656Z",
     "start_time": "2020-11-25T06:47:24.292734Z"
    }
   },
   "outputs": [
    {
     "data": {
      "image/png": "[encoded data removed]",
      "text/plain": [
       "<Figure size 432x288 with 1 Axes>"
      ]
     },
     "metadata": {
      "needs_background": "light"
     },
     "output_type": "display_data"
    },
    {
     "name": "stdout",
     "output_type": "stream",
     "text": [
      "Greedy: black dog is running through the grass\n"
     ]
    }
   ],
   "source": [
    "\n",
    "pic = list(encoding_test.keys())[5]\n",
    "image = encoding_test[pic].reshape((1,2048))\n",
    "x=plt.imread(images+pic)\n",
    "plt.imshow(x)\n",
    "plt.show()\n",
    "print(\"Greedy:\",greedySearch(image))"
   ]
  },
  {
   "cell_type": "code",
   "execution_count": null,
   "metadata": {},
   "outputs": [],
   "source": []
  }
 ],
 "metadata": {
  "accelerator": "GPU",
  "colab": {
   "authorship_tag": "ABX9TyPzlxUCxDQTNqfn9kuunY+5",
   "mount_file_id": "1OBxDfExsPtWx7zLB1kKrA9quI-jJKXQ8",
   "name": "Untitled18.ipynb",
   "provenance": []
  },
  "kernelspec": {
   "display_name": "Python 3",
   "language": "python",
   "name": "python3"
  },
  "language_info": {
   "codemirror_mode": {
    "name": "ipython",
    "version": 3
   },
   "file_extension": ".py",
   "mimetype": "text/x-python",
   "name": "python",
   "nbconvert_exporter": "python",
   "pygments_lexer": "ipython3",
   "version": "3.7.4"
  },
  "toc": {
   "base_numbering": 1,
   "nav_menu": {},
   "number_sections": true,
   "sideBar": true,
   "skip_h1_title": false,
   "title_cell": "Table of Contents",
   "title_sidebar": "Contents",
   "toc_cell": false,
   "toc_position": {},
   "toc_section_display": true,
   "toc_window_display": false
  }
 },
 "nbformat": 4,
 "nbformat_minor": 1
}
